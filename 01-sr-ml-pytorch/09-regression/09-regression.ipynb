{
 "cells": [
  {
   "cell_type": "code",
   "execution_count": 1,
   "id": "afd9ec1d-5156-473d-af56-23fe0b42c65e",
   "metadata": {},
   "outputs": [],
   "source": [
    "import pandas as pd"
   ]
  },
  {
   "cell_type": "markdown",
   "id": "18001d6c-3dad-4701-829a-f08767fd126d",
   "metadata": {},
   "source": [
    "## Exploring the Ames Housing dataset"
   ]
  },
  {
   "cell_type": "markdown",
   "id": "4ddeb257-6431-4df1-a9aa-01acccd2d384",
   "metadata": {},
   "source": [
    "We are going to load only 6 out of 80 columns using `usecols=columns` option in Pandas dataframe."
   ]
  },
  {
   "cell_type": "code",
   "execution_count": 16,
   "id": "8b05cd33-07c2-4f56-8751-ba59fef6fa0d",
   "metadata": {},
   "outputs": [],
   "source": [
    "columns = ['Overall Qual', 'Overall Cond', 'Gr Liv Area',\n",
    "           'Central Air', 'Total Bsmt SF', 'SalePrice']"
   ]
  },
  {
   "cell_type": "code",
   "execution_count": 17,
   "id": "94ca35ae-75b0-49e9-9637-e955df837178",
   "metadata": {},
   "outputs": [],
   "source": [
    "df = pd.read_csv('AmesHousing.txt', \n",
    "                 sep='\\t',\n",
    "                 usecols=columns)"
   ]
  },
  {
   "cell_type": "code",
   "execution_count": 18,
   "id": "60d02df1-87c8-4225-9a83-2d27671b93ab",
   "metadata": {},
   "outputs": [
    {
     "data": {
      "text/html": [
       "<div>\n",
       "<style scoped>\n",
       "    .dataframe tbody tr th:only-of-type {\n",
       "        vertical-align: middle;\n",
       "    }\n",
       "\n",
       "    .dataframe tbody tr th {\n",
       "        vertical-align: top;\n",
       "    }\n",
       "\n",
       "    .dataframe thead th {\n",
       "        text-align: right;\n",
       "    }\n",
       "</style>\n",
       "<table border=\"1\" class=\"dataframe\">\n",
       "  <thead>\n",
       "    <tr style=\"text-align: right;\">\n",
       "      <th></th>\n",
       "      <th>Overall Qual</th>\n",
       "      <th>Overall Cond</th>\n",
       "      <th>Total Bsmt SF</th>\n",
       "      <th>Central Air</th>\n",
       "      <th>Gr Liv Area</th>\n",
       "      <th>SalePrice</th>\n",
       "    </tr>\n",
       "  </thead>\n",
       "  <tbody>\n",
       "    <tr>\n",
       "      <th>0</th>\n",
       "      <td>6</td>\n",
       "      <td>5</td>\n",
       "      <td>1080.0</td>\n",
       "      <td>Y</td>\n",
       "      <td>1656</td>\n",
       "      <td>215000</td>\n",
       "    </tr>\n",
       "    <tr>\n",
       "      <th>1</th>\n",
       "      <td>5</td>\n",
       "      <td>6</td>\n",
       "      <td>882.0</td>\n",
       "      <td>Y</td>\n",
       "      <td>896</td>\n",
       "      <td>105000</td>\n",
       "    </tr>\n",
       "    <tr>\n",
       "      <th>2</th>\n",
       "      <td>6</td>\n",
       "      <td>6</td>\n",
       "      <td>1329.0</td>\n",
       "      <td>Y</td>\n",
       "      <td>1329</td>\n",
       "      <td>172000</td>\n",
       "    </tr>\n",
       "    <tr>\n",
       "      <th>3</th>\n",
       "      <td>7</td>\n",
       "      <td>5</td>\n",
       "      <td>2110.0</td>\n",
       "      <td>Y</td>\n",
       "      <td>2110</td>\n",
       "      <td>244000</td>\n",
       "    </tr>\n",
       "    <tr>\n",
       "      <th>4</th>\n",
       "      <td>5</td>\n",
       "      <td>5</td>\n",
       "      <td>928.0</td>\n",
       "      <td>Y</td>\n",
       "      <td>1629</td>\n",
       "      <td>189900</td>\n",
       "    </tr>\n",
       "  </tbody>\n",
       "</table>\n",
       "</div>"
      ],
      "text/plain": [
       "   Overall Qual  Overall Cond  Total Bsmt SF Central Air  Gr Liv Area  \\\n",
       "0             6             5         1080.0           Y         1656   \n",
       "1             5             6          882.0           Y          896   \n",
       "2             6             6         1329.0           Y         1329   \n",
       "3             7             5         2110.0           Y         2110   \n",
       "4             5             5          928.0           Y         1629   \n",
       "\n",
       "   SalePrice  \n",
       "0     215000  \n",
       "1     105000  \n",
       "2     172000  \n",
       "3     244000  \n",
       "4     189900  "
      ]
     },
     "execution_count": 18,
     "metadata": {},
     "output_type": "execute_result"
    }
   ],
   "source": [
    "df.head()"
   ]
  },
  {
   "cell_type": "code",
   "execution_count": 19,
   "id": "d00357b5-13da-4b2b-9dc1-766cac0b8669",
   "metadata": {},
   "outputs": [
    {
     "name": "stdout",
     "output_type": "stream",
     "text": [
      "<class 'pandas.core.frame.DataFrame'>\n",
      "RangeIndex: 2930 entries, 0 to 2929\n",
      "Data columns (total 6 columns):\n",
      " #   Column         Non-Null Count  Dtype  \n",
      "---  ------         --------------  -----  \n",
      " 0   Overall Qual   2930 non-null   int64  \n",
      " 1   Overall Cond   2930 non-null   int64  \n",
      " 2   Total Bsmt SF  2929 non-null   float64\n",
      " 3   Central Air    2930 non-null   object \n",
      " 4   Gr Liv Area    2930 non-null   int64  \n",
      " 5   SalePrice      2930 non-null   int64  \n",
      "dtypes: float64(1), int64(4), object(1)\n",
      "memory usage: 137.5+ KB\n"
     ]
    }
   ],
   "source": [
    "df.info()"
   ]
  },
  {
   "cell_type": "code",
   "execution_count": 10,
   "id": "e6b3048b-e64e-46bb-989a-f26a6c0fb243",
   "metadata": {},
   "outputs": [
    {
     "data": {
      "text/plain": [
       "((2930, 6), 17580, 2930)"
      ]
     },
     "execution_count": 10,
     "metadata": {},
     "output_type": "execute_result"
    }
   ],
   "source": [
    "df.shape, df.size, len(df)"
   ]
  },
  {
   "cell_type": "code",
   "execution_count": 11,
   "id": "e95eb9e3-9341-478e-99f9-af3641671758",
   "metadata": {},
   "outputs": [
    {
     "data": {
      "text/plain": [
       "Index(['Overall Qual', 'Overall Cond', 'Total Bsmt SF', 'Central Air',\n",
       "       'Gr Liv Area', 'SalePrice'],\n",
       "      dtype='object')"
      ]
     },
     "execution_count": 11,
     "metadata": {},
     "output_type": "execute_result"
    }
   ],
   "source": [
    "df.columns"
   ]
  },
  {
   "cell_type": "markdown",
   "id": "060cfd0b-8c88-44bf-badb-d76ff69e9ab3",
   "metadata": {},
   "source": [
    "Let's now convert `Central Air` column into integer type. "
   ]
  },
  {
   "cell_type": "code",
   "execution_count": 20,
   "id": "c91ae47e-5bbb-4195-b223-280b0265d802",
   "metadata": {},
   "outputs": [],
   "source": [
    "df['Central Air'] = df['Central Air'].map({'Y': 1, 'N': 0})"
   ]
  },
  {
   "cell_type": "code",
   "execution_count": 21,
   "id": "3bd22cd8-61b0-48c8-b458-e6925a0021ec",
   "metadata": {},
   "outputs": [
    {
     "data": {
      "text/html": [
       "<div>\n",
       "<style scoped>\n",
       "    .dataframe tbody tr th:only-of-type {\n",
       "        vertical-align: middle;\n",
       "    }\n",
       "\n",
       "    .dataframe tbody tr th {\n",
       "        vertical-align: top;\n",
       "    }\n",
       "\n",
       "    .dataframe thead th {\n",
       "        text-align: right;\n",
       "    }\n",
       "</style>\n",
       "<table border=\"1\" class=\"dataframe\">\n",
       "  <thead>\n",
       "    <tr style=\"text-align: right;\">\n",
       "      <th></th>\n",
       "      <th>Overall Qual</th>\n",
       "      <th>Overall Cond</th>\n",
       "      <th>Total Bsmt SF</th>\n",
       "      <th>Central Air</th>\n",
       "      <th>Gr Liv Area</th>\n",
       "      <th>SalePrice</th>\n",
       "    </tr>\n",
       "  </thead>\n",
       "  <tbody>\n",
       "    <tr>\n",
       "      <th>0</th>\n",
       "      <td>6</td>\n",
       "      <td>5</td>\n",
       "      <td>1080.0</td>\n",
       "      <td>1</td>\n",
       "      <td>1656</td>\n",
       "      <td>215000</td>\n",
       "    </tr>\n",
       "    <tr>\n",
       "      <th>1</th>\n",
       "      <td>5</td>\n",
       "      <td>6</td>\n",
       "      <td>882.0</td>\n",
       "      <td>1</td>\n",
       "      <td>896</td>\n",
       "      <td>105000</td>\n",
       "    </tr>\n",
       "    <tr>\n",
       "      <th>2</th>\n",
       "      <td>6</td>\n",
       "      <td>6</td>\n",
       "      <td>1329.0</td>\n",
       "      <td>1</td>\n",
       "      <td>1329</td>\n",
       "      <td>172000</td>\n",
       "    </tr>\n",
       "    <tr>\n",
       "      <th>3</th>\n",
       "      <td>7</td>\n",
       "      <td>5</td>\n",
       "      <td>2110.0</td>\n",
       "      <td>1</td>\n",
       "      <td>2110</td>\n",
       "      <td>244000</td>\n",
       "    </tr>\n",
       "    <tr>\n",
       "      <th>4</th>\n",
       "      <td>5</td>\n",
       "      <td>5</td>\n",
       "      <td>928.0</td>\n",
       "      <td>1</td>\n",
       "      <td>1629</td>\n",
       "      <td>189900</td>\n",
       "    </tr>\n",
       "  </tbody>\n",
       "</table>\n",
       "</div>"
      ],
      "text/plain": [
       "   Overall Qual  Overall Cond  Total Bsmt SF  Central Air  Gr Liv Area  \\\n",
       "0             6             5         1080.0            1         1656   \n",
       "1             5             6          882.0            1          896   \n",
       "2             6             6         1329.0            1         1329   \n",
       "3             7             5         2110.0            1         2110   \n",
       "4             5             5          928.0            1         1629   \n",
       "\n",
       "   SalePrice  \n",
       "0     215000  \n",
       "1     105000  \n",
       "2     172000  \n",
       "3     244000  \n",
       "4     189900  "
      ]
     },
     "execution_count": 21,
     "metadata": {},
     "output_type": "execute_result"
    }
   ],
   "source": [
    "df.head()"
   ]
  },
  {
   "cell_type": "code",
   "execution_count": 22,
   "id": "3e7b797f-4122-4785-9b0f-cd5453ee62b4",
   "metadata": {},
   "outputs": [
    {
     "name": "stdout",
     "output_type": "stream",
     "text": [
      "<class 'pandas.core.frame.DataFrame'>\n",
      "RangeIndex: 2930 entries, 0 to 2929\n",
      "Data columns (total 6 columns):\n",
      " #   Column         Non-Null Count  Dtype  \n",
      "---  ------         --------------  -----  \n",
      " 0   Overall Qual   2930 non-null   int64  \n",
      " 1   Overall Cond   2930 non-null   int64  \n",
      " 2   Total Bsmt SF  2929 non-null   float64\n",
      " 3   Central Air    2930 non-null   int64  \n",
      " 4   Gr Liv Area    2930 non-null   int64  \n",
      " 5   SalePrice      2930 non-null   int64  \n",
      "dtypes: float64(1), int64(5)\n",
      "memory usage: 137.5 KB\n"
     ]
    }
   ],
   "source": [
    "df.info()"
   ]
  },
  {
   "cell_type": "markdown",
   "id": "4542d947-93bf-425b-b9e1-d9fecec73928",
   "metadata": {},
   "source": [
    "From this information we see that we have 1 missing value in `Total Bsmt SF`. We are going to drop it."
   ]
  },
  {
   "cell_type": "code",
   "execution_count": 23,
   "id": "a8722065-08a0-406c-8a4f-cc979437ed57",
   "metadata": {},
   "outputs": [
    {
     "data": {
      "text/html": [
       "<div>\n",
       "<style scoped>\n",
       "    .dataframe tbody tr th:only-of-type {\n",
       "        vertical-align: middle;\n",
       "    }\n",
       "\n",
       "    .dataframe tbody tr th {\n",
       "        vertical-align: top;\n",
       "    }\n",
       "\n",
       "    .dataframe thead th {\n",
       "        text-align: right;\n",
       "    }\n",
       "</style>\n",
       "<table border=\"1\" class=\"dataframe\">\n",
       "  <thead>\n",
       "    <tr style=\"text-align: right;\">\n",
       "      <th></th>\n",
       "      <th>Overall Qual</th>\n",
       "      <th>Overall Cond</th>\n",
       "      <th>Total Bsmt SF</th>\n",
       "      <th>Central Air</th>\n",
       "      <th>Gr Liv Area</th>\n",
       "      <th>SalePrice</th>\n",
       "    </tr>\n",
       "  </thead>\n",
       "  <tbody>\n",
       "    <tr>\n",
       "      <th>0</th>\n",
       "      <td>False</td>\n",
       "      <td>False</td>\n",
       "      <td>False</td>\n",
       "      <td>False</td>\n",
       "      <td>False</td>\n",
       "      <td>False</td>\n",
       "    </tr>\n",
       "    <tr>\n",
       "      <th>1</th>\n",
       "      <td>False</td>\n",
       "      <td>False</td>\n",
       "      <td>False</td>\n",
       "      <td>False</td>\n",
       "      <td>False</td>\n",
       "      <td>False</td>\n",
       "    </tr>\n",
       "    <tr>\n",
       "      <th>2</th>\n",
       "      <td>False</td>\n",
       "      <td>False</td>\n",
       "      <td>False</td>\n",
       "      <td>False</td>\n",
       "      <td>False</td>\n",
       "      <td>False</td>\n",
       "    </tr>\n",
       "    <tr>\n",
       "      <th>3</th>\n",
       "      <td>False</td>\n",
       "      <td>False</td>\n",
       "      <td>False</td>\n",
       "      <td>False</td>\n",
       "      <td>False</td>\n",
       "      <td>False</td>\n",
       "    </tr>\n",
       "    <tr>\n",
       "      <th>4</th>\n",
       "      <td>False</td>\n",
       "      <td>False</td>\n",
       "      <td>False</td>\n",
       "      <td>False</td>\n",
       "      <td>False</td>\n",
       "      <td>False</td>\n",
       "    </tr>\n",
       "    <tr>\n",
       "      <th>...</th>\n",
       "      <td>...</td>\n",
       "      <td>...</td>\n",
       "      <td>...</td>\n",
       "      <td>...</td>\n",
       "      <td>...</td>\n",
       "      <td>...</td>\n",
       "    </tr>\n",
       "    <tr>\n",
       "      <th>2925</th>\n",
       "      <td>False</td>\n",
       "      <td>False</td>\n",
       "      <td>False</td>\n",
       "      <td>False</td>\n",
       "      <td>False</td>\n",
       "      <td>False</td>\n",
       "    </tr>\n",
       "    <tr>\n",
       "      <th>2926</th>\n",
       "      <td>False</td>\n",
       "      <td>False</td>\n",
       "      <td>False</td>\n",
       "      <td>False</td>\n",
       "      <td>False</td>\n",
       "      <td>False</td>\n",
       "    </tr>\n",
       "    <tr>\n",
       "      <th>2927</th>\n",
       "      <td>False</td>\n",
       "      <td>False</td>\n",
       "      <td>False</td>\n",
       "      <td>False</td>\n",
       "      <td>False</td>\n",
       "      <td>False</td>\n",
       "    </tr>\n",
       "    <tr>\n",
       "      <th>2928</th>\n",
       "      <td>False</td>\n",
       "      <td>False</td>\n",
       "      <td>False</td>\n",
       "      <td>False</td>\n",
       "      <td>False</td>\n",
       "      <td>False</td>\n",
       "    </tr>\n",
       "    <tr>\n",
       "      <th>2929</th>\n",
       "      <td>False</td>\n",
       "      <td>False</td>\n",
       "      <td>False</td>\n",
       "      <td>False</td>\n",
       "      <td>False</td>\n",
       "      <td>False</td>\n",
       "    </tr>\n",
       "  </tbody>\n",
       "</table>\n",
       "<p>2930 rows × 6 columns</p>\n",
       "</div>"
      ],
      "text/plain": [
       "      Overall Qual  Overall Cond  Total Bsmt SF  Central Air  Gr Liv Area  \\\n",
       "0            False         False          False        False        False   \n",
       "1            False         False          False        False        False   \n",
       "2            False         False          False        False        False   \n",
       "3            False         False          False        False        False   \n",
       "4            False         False          False        False        False   \n",
       "...            ...           ...            ...          ...          ...   \n",
       "2925         False         False          False        False        False   \n",
       "2926         False         False          False        False        False   \n",
       "2927         False         False          False        False        False   \n",
       "2928         False         False          False        False        False   \n",
       "2929         False         False          False        False        False   \n",
       "\n",
       "      SalePrice  \n",
       "0         False  \n",
       "1         False  \n",
       "2         False  \n",
       "3         False  \n",
       "4         False  \n",
       "...         ...  \n",
       "2925      False  \n",
       "2926      False  \n",
       "2927      False  \n",
       "2928      False  \n",
       "2929      False  \n",
       "\n",
       "[2930 rows x 6 columns]"
      ]
     },
     "execution_count": 23,
     "metadata": {},
     "output_type": "execute_result"
    }
   ],
   "source": [
    "df.isnull()"
   ]
  },
  {
   "cell_type": "code",
   "execution_count": null,
   "id": "55873d46-f391-4226-b2cd-a910000a7d53",
   "metadata": {},
   "outputs": [],
   "source": []
  },
  {
   "cell_type": "code",
   "execution_count": null,
   "id": "5895bb76-1d72-4e1e-98bd-d9422463e5a2",
   "metadata": {},
   "outputs": [],
   "source": []
  },
  {
   "cell_type": "code",
   "execution_count": null,
   "id": "de3ffdd1-f6fd-41d7-9d2e-08bf6ddbab4f",
   "metadata": {},
   "outputs": [],
   "source": []
  },
  {
   "cell_type": "code",
   "execution_count": null,
   "id": "660f35c2-fbb3-4be4-9bd3-4b14b1ac0078",
   "metadata": {},
   "outputs": [],
   "source": []
  },
  {
   "cell_type": "code",
   "execution_count": null,
   "id": "7e22c7d8-bcee-4bf8-91e4-32aec9cc215c",
   "metadata": {},
   "outputs": [],
   "source": []
  }
 ],
 "metadata": {
  "kernelspec": {
   "display_name": "Python 3 (ipykernel)",
   "language": "python",
   "name": "python3"
  },
  "language_info": {
   "codemirror_mode": {
    "name": "ipython",
    "version": 3
   },
   "file_extension": ".py",
   "mimetype": "text/x-python",
   "name": "python",
   "nbconvert_exporter": "python",
   "pygments_lexer": "ipython3",
   "version": "3.12.4"
  }
 },
 "nbformat": 4,
 "nbformat_minor": 5
}
